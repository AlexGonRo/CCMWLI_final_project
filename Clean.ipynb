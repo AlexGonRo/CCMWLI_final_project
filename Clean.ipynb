{
 "cells": [
  {
   "cell_type": "code",
   "execution_count": 2,
   "metadata": {
    "collapsed": true
   },
   "outputs": [],
   "source": [
    "import xml.etree.ElementTree as ET\n",
    "import re\n",
    "tree = ET.parse('data.xml')\n",
    "root = tree.getroot()"
   ]
  },
  {
   "cell_type": "code",
   "execution_count": 3,
   "metadata": {
    "collapsed": true
   },
   "outputs": [],
   "source": [
    "\n",
    "citylist =dict(Berlin=\"BERLIN IS AWESOME\")\n",
    "STOPS = [\"\\{\", \"\\}\", \"\\[\", \"\\]\", \"\\\\n\",\"\\\\\"]\n",
    "\n",
    "counter = 0\n",
    "key = \"\"\n",
    "description = \"\"\n",
    "\n",
    "word = 'fubar'\n",
    "re_title = re.compile(r'title')\n",
    "re_revision = re.compile(r'revision')\n",
    "re_text = re.compile(r'text')\n",
    "re_cutter = re.compile(r'[^=]*==')\n",
    "\n",
    "\n",
    "for child in root:\n",
    "    if (child.tag == \"{http://www.mediawiki.org/xml/export-0.10/}siteinfo\"):\n",
    "        root.remove(child)\n",
    "    else:\n",
    "        #print 'CHILD'\n",
    "        #print child.tag, child.attrib\n",
    "        for subchild in child:\n",
    "            if re_title.search(subchild.tag):\n",
    "                #print \"TITLEEEE\"\n",
    "                #print subchild.text\n",
    "                key = subchild.text\n",
    "            if re_revision.search(subchild.tag):\n",
    "               # print 'REVISION', subchild.tag, subchild.attrib\n",
    "                for text in subchild.findall('{http://www.mediawiki.org/xml/export-0.10/}text'):\n",
    "                    if(len(text.text)>15):\n",
    "                        description = text.text\n",
    "                        for section in re_cutter.finditer(description):# Remove anything after first == appearance\n",
    "                            description = section.group(0)\n",
    "                            description = description[:-3]#Remove also the == that were included in the regex\n",
    "                            break;\n",
    "                        description = re.sub(\"\\[\\[[^\\]]*\\]\", \" \",description) # Remove everything between [[...]]\n",
    "                        description = re.sub(\"\\{\\{[^\\}]*\\}\", \"\", description) # Remove everything between {{...}}\n",
    "                        description = re.sub(\"'''\", \"'\", description) # Handle the ''''\n",
    "                        description = re.sub(\"[\\\\\\{\\}\\[\\]\\\\n]\",\"\", description) # Remove stuff\n",
    "\n",
    "                    \n",
    "            citylist[key] = description\n",
    "                    \n",
    "\n",
    "        counter += 1\n",
    "        if (counter >= 100):\n",
    "            break;\n",
    "    \n",
    "    "
   ]
  },
  {
   "cell_type": "code",
   "execution_count": 64,
   "metadata": {
    "collapsed": true
   },
   "outputs": [],
   "source": [
    "#citylist.viewkeys()"
   ]
  },
  {
   "cell_type": "code",
   "execution_count": 4,
   "metadata": {},
   "outputs": [
    {
     "data": {
      "text/plain": [
       "u\" 'Abruzzo' is one of the twenty Italian regions. It is situated in the central part of  , to the east of Rome on the Adriatic Sea. Abruzzo's western border lies less than 50 miles due east of Rome. Abruzzo borders the region of Marche to the north, Lazio to the west and south-west, Molise to the south-east, and the Adriatic Sea to the east. Although geographically more of a central than southern region, ISTAT (the Italian statistical authority) considers it part of Southern Italy, a vestige of Abruzzo's historic association with the Kingdom of the Two Sicilies.Abruzzo is one of the most sparsely populated regions on the Italian peninsula. Always a wild and empty region, since the Second World War it has depopulated further, as people have left the land, and the traditional mainstay of sheep farming, for the cities and for America. A vacation in Abruzzo offers a taste of the unspoiled Italy.\""
      ]
     },
     "execution_count": 4,
     "metadata": {},
     "output_type": "execute_result"
    }
   ],
   "source": [
    "abr = citylist[\"Abruzzo\"]\n",
    "abr"
   ]
  },
  {
   "cell_type": "code",
   "execution_count": null,
   "metadata": {
    "collapsed": true
   },
   "outputs": [],
   "source": []
  },
  {
   "cell_type": "markdown",
   "metadata": {
    "collapsed": true
   },
   "source": [
    "# Seq2Vec own Model with Word2Vec average Vector"
   ]
  },
  {
   "cell_type": "code",
   "execution_count": 1,
   "metadata": {
    "collapsed": true
   },
   "outputs": [],
   "source": [
    "from gensim.models import Word2Vec\n",
    "from gensim.models import KeyedVectors\n",
    "import cPickle, gzip\n",
    "import numpy as np\n",
    "import pandas as pd\n"
   ]
  },
  {
   "cell_type": "code",
   "execution_count": 2,
   "metadata": {},
   "outputs": [
    {
     "name": "stdout",
     "output_type": "stream",
     "text": [
      "Loaded model\n"
     ]
    }
   ],
   "source": [
    "EMBEDDING_FILE = './model/GoogleNews-vectors-negative300.bin'\n",
    "#model = Word2Vec.load(EMBEDDING_FILE)\n",
    "\n",
    "word2vec = KeyedVectors.load_word2vec_format(EMBEDDING_FILE, \\\n",
    "        binary=True)\n",
    "print \"Loaded model\""
   ]
  },
  {
   "cell_type": "code",
   "execution_count": 146,
   "metadata": {},
   "outputs": [],
   "source": [
    "#Load Data\n",
    "df = pd.read_csv('./proc_data.csv')\n",
    "descriptions = np.array(df.loc[:]['description'])\n",
    "descriptions_vec = [vectorize(word2vec, description) for description in descriptions]"
   ]
  },
  {
   "cell_type": "code",
   "execution_count": 148,
   "metadata": {
    "collapsed": true
   },
   "outputs": [],
   "source": [
    "def vectorize(word2vec, sentence, num_features=300):\n",
    "    mywords = sentence.split(\" \")\n",
    "    myvector = np.zeros((num_features),dtype=\"float32\")\n",
    "\n",
    "    i = 0\n",
    "    for word in mywords:\n",
    "        #print word\n",
    "        if word in word2vec.vocab:\n",
    "            myvector = np.add(myvector,word2vec[word]) # Adding every new vector\n",
    "            i+=1\n",
    "    featureVec = np.divide(myvector, i) # and in the end dividing it by the number of words\n",
    "\n",
    "    return featureVec\n",
    "\n",
    "def eucDistance(vector1, vector2):\n",
    "    euclid = 0.0\n",
    "    for (dim1, dim2) in zip(vector1, vector2):\n",
    "        euclid = euclid +(dim1-dim2)*(dim1-dim2)\n",
    "        #print dim1, dim2\n",
    "    euclid = np.sqrt(euclid)\n",
    "    return euclid\n",
    "def maxDistance(vector1, vector2):\n",
    "    return max(np.abs(np.substract(vector1,vector2)))\n",
    "def minDistance(vec1, vec2):\n",
    "    return min(np.abs(np.substract(vec1,vec2)))\n",
    "def findBestMatch(vec1, vecarray):\n",
    "    distances = np.zeros(len(vecarray))\n",
    "    for i in range(0,len(vecarray)):\n",
    "        distances[i] = eucDistance(vec1, vecarray[i])\n",
    "    index = distances.argmin()\n",
    "    return index             \n",
    "        \n",
    "def dfToVecArray(word2vec, df):\n",
    "    vecarray = 1 # NNEDS TO BE DEFINED\n",
    "    return vecarray"
   ]
  },
  {
   "cell_type": "code",
   "execution_count": 152,
   "metadata": {},
   "outputs": [
    {
     "data": {
      "text/plain": [
       "' shertogenbosch  commonly known  den bosch  city south netherlands capital province north brabant stronghold vital protection young dutch nation den bosch charming wellpreserved medieval centre wander winding streets see saint johns cathedral pick street terrace market square relax chilling beer take boat see part unique binnendieze subterranean network canals city head south part town ancient ramparts still mark border city beginning natural reserve area short den bosch lacks fame makes charm place well worth visiting'"
      ]
     },
     "execution_count": 152,
     "metadata": {},
     "output_type": "execute_result"
    }
   ],
   "source": [
    "bsp1 = \"Hi I am rather cool\"\n",
    "bsp2 = \"Yo where have you been\"\n",
    "myvec1 = vectorize(word2vec, bsp1)\n",
    "myvec2 = vectorize(word2vec, bsp2)\n",
    "vecarray = [myvec1, myvec2]\n",
    "\n",
    "#euc = eucDistance(myvec1, myvec2)\n",
    "descriptions[findBestMatch(myvec1,vecarray)]"
   ]
  }
 ],
 "metadata": {
  "kernelspec": {
   "display_name": "Python 2",
   "language": "python",
   "name": "python2"
  },
  "language_info": {
   "codemirror_mode": {
    "name": "ipython",
    "version": 2
   },
   "file_extension": ".py",
   "mimetype": "text/x-python",
   "name": "python",
   "nbconvert_exporter": "python",
   "pygments_lexer": "ipython2",
   "version": "2.7.12"
  }
 },
 "nbformat": 4,
 "nbformat_minor": 2
}
