{
 "cells": [
  {
   "cell_type": "code",
   "execution_count": 159,
   "metadata": {},
   "outputs": [
    {
     "ename": "KeyboardInterrupt",
     "evalue": "",
     "output_type": "error",
     "traceback": [
      "\u001b[0;31m---------------------------------------------------------------------------\u001b[0m",
      "\u001b[0;31mKeyboardInterrupt\u001b[0m                         Traceback (most recent call last)",
      "\u001b[0;32m<ipython-input-159-9f151bce8e63>\u001b[0m in \u001b[0;36m<module>\u001b[0;34m()\u001b[0m\n\u001b[1;32m      3\u001b[0m \u001b[0;32mimport\u001b[0m \u001b[0mgzip\u001b[0m\u001b[0;34m,\u001b[0m \u001b[0mpickle\u001b[0m \u001b[0;32mas\u001b[0m \u001b[0mcPickle\u001b[0m\u001b[0;34m\u001b[0m\u001b[0m\n\u001b[1;32m      4\u001b[0m \u001b[0;34m\u001b[0m\u001b[0m\n\u001b[0;32m----> 5\u001b[0;31m \u001b[0mtree\u001b[0m \u001b[0;34m=\u001b[0m \u001b[0mET\u001b[0m\u001b[0;34m.\u001b[0m\u001b[0mparse\u001b[0m\u001b[0;34m(\u001b[0m\u001b[0;34m'data.xml'\u001b[0m\u001b[0;34m)\u001b[0m\u001b[0;34m\u001b[0m\u001b[0m\n\u001b[0m\u001b[1;32m      6\u001b[0m \u001b[0mroot\u001b[0m \u001b[0;34m=\u001b[0m \u001b[0mtree\u001b[0m\u001b[0;34m.\u001b[0m\u001b[0mgetroot\u001b[0m\u001b[0;34m(\u001b[0m\u001b[0;34m)\u001b[0m\u001b[0;34m\u001b[0m\u001b[0m\n",
      "\u001b[0;32m/usr/lib/python2.7/xml/etree/ElementTree.pyc\u001b[0m in \u001b[0;36mparse\u001b[0;34m(source, parser)\u001b[0m\n\u001b[1;32m   1180\u001b[0m \u001b[0;32mdef\u001b[0m \u001b[0mparse\u001b[0m\u001b[0;34m(\u001b[0m\u001b[0msource\u001b[0m\u001b[0;34m,\u001b[0m \u001b[0mparser\u001b[0m\u001b[0;34m=\u001b[0m\u001b[0mNone\u001b[0m\u001b[0;34m)\u001b[0m\u001b[0;34m:\u001b[0m\u001b[0;34m\u001b[0m\u001b[0m\n\u001b[1;32m   1181\u001b[0m     \u001b[0mtree\u001b[0m \u001b[0;34m=\u001b[0m \u001b[0mElementTree\u001b[0m\u001b[0;34m(\u001b[0m\u001b[0;34m)\u001b[0m\u001b[0;34m\u001b[0m\u001b[0m\n\u001b[0;32m-> 1182\u001b[0;31m     \u001b[0mtree\u001b[0m\u001b[0;34m.\u001b[0m\u001b[0mparse\u001b[0m\u001b[0;34m(\u001b[0m\u001b[0msource\u001b[0m\u001b[0;34m,\u001b[0m \u001b[0mparser\u001b[0m\u001b[0;34m)\u001b[0m\u001b[0;34m\u001b[0m\u001b[0m\n\u001b[0m\u001b[1;32m   1183\u001b[0m     \u001b[0;32mreturn\u001b[0m \u001b[0mtree\u001b[0m\u001b[0;34m\u001b[0m\u001b[0m\n\u001b[1;32m   1184\u001b[0m \u001b[0;34m\u001b[0m\u001b[0m\n",
      "\u001b[0;32m/usr/lib/python2.7/xml/etree/ElementTree.pyc\u001b[0m in \u001b[0;36mparse\u001b[0;34m(self, source, parser)\u001b[0m\n\u001b[1;32m    654\u001b[0m                 \u001b[0;32mif\u001b[0m \u001b[0;32mnot\u001b[0m \u001b[0mdata\u001b[0m\u001b[0;34m:\u001b[0m\u001b[0;34m\u001b[0m\u001b[0m\n\u001b[1;32m    655\u001b[0m                     \u001b[0;32mbreak\u001b[0m\u001b[0;34m\u001b[0m\u001b[0m\n\u001b[0;32m--> 656\u001b[0;31m                 \u001b[0mparser\u001b[0m\u001b[0;34m.\u001b[0m\u001b[0mfeed\u001b[0m\u001b[0;34m(\u001b[0m\u001b[0mdata\u001b[0m\u001b[0;34m)\u001b[0m\u001b[0;34m\u001b[0m\u001b[0m\n\u001b[0m\u001b[1;32m    657\u001b[0m             \u001b[0mself\u001b[0m\u001b[0;34m.\u001b[0m\u001b[0m_root\u001b[0m \u001b[0;34m=\u001b[0m \u001b[0mparser\u001b[0m\u001b[0;34m.\u001b[0m\u001b[0mclose\u001b[0m\u001b[0;34m(\u001b[0m\u001b[0;34m)\u001b[0m\u001b[0;34m\u001b[0m\u001b[0m\n\u001b[1;32m    658\u001b[0m             \u001b[0;32mreturn\u001b[0m \u001b[0mself\u001b[0m\u001b[0;34m.\u001b[0m\u001b[0m_root\u001b[0m\u001b[0;34m\u001b[0m\u001b[0m\n",
      "\u001b[0;32m/usr/lib/python2.7/xml/etree/ElementTree.pyc\u001b[0m in \u001b[0;36mfeed\u001b[0;34m(self, data)\u001b[0m\n\u001b[1;32m   1649\u001b[0m     \u001b[0;32mdef\u001b[0m \u001b[0mfeed\u001b[0m\u001b[0;34m(\u001b[0m\u001b[0mself\u001b[0m\u001b[0;34m,\u001b[0m \u001b[0mdata\u001b[0m\u001b[0;34m)\u001b[0m\u001b[0;34m:\u001b[0m\u001b[0;34m\u001b[0m\u001b[0m\n\u001b[1;32m   1650\u001b[0m         \u001b[0;32mtry\u001b[0m\u001b[0;34m:\u001b[0m\u001b[0;34m\u001b[0m\u001b[0m\n\u001b[0;32m-> 1651\u001b[0;31m             \u001b[0mself\u001b[0m\u001b[0;34m.\u001b[0m\u001b[0m_parser\u001b[0m\u001b[0;34m.\u001b[0m\u001b[0mParse\u001b[0m\u001b[0;34m(\u001b[0m\u001b[0mdata\u001b[0m\u001b[0;34m,\u001b[0m \u001b[0;36m0\u001b[0m\u001b[0;34m)\u001b[0m\u001b[0;34m\u001b[0m\u001b[0m\n\u001b[0m\u001b[1;32m   1652\u001b[0m         \u001b[0;32mexcept\u001b[0m \u001b[0mself\u001b[0m\u001b[0;34m.\u001b[0m\u001b[0m_error\u001b[0m\u001b[0;34m,\u001b[0m \u001b[0mv\u001b[0m\u001b[0;34m:\u001b[0m\u001b[0;34m\u001b[0m\u001b[0m\n\u001b[1;32m   1653\u001b[0m             \u001b[0mself\u001b[0m\u001b[0;34m.\u001b[0m\u001b[0m_raiseerror\u001b[0m\u001b[0;34m(\u001b[0m\u001b[0mv\u001b[0m\u001b[0;34m)\u001b[0m\u001b[0;34m\u001b[0m\u001b[0m\n",
      "\u001b[0;32m/usr/lib/python2.7/xml/etree/ElementTree.pyc\u001b[0m in \u001b[0;36m_start_list\u001b[0;34m(self, tag, attrib_in)\u001b[0m\n\u001b[1;32m   1552\u001b[0m             \u001b[0;32mfor\u001b[0m \u001b[0mi\u001b[0m \u001b[0;32min\u001b[0m \u001b[0mrange\u001b[0m\u001b[0;34m(\u001b[0m\u001b[0;36m0\u001b[0m\u001b[0;34m,\u001b[0m \u001b[0mlen\u001b[0m\u001b[0;34m(\u001b[0m\u001b[0mattrib_in\u001b[0m\u001b[0;34m)\u001b[0m\u001b[0;34m,\u001b[0m \u001b[0;36m2\u001b[0m\u001b[0;34m)\u001b[0m\u001b[0;34m:\u001b[0m\u001b[0;34m\u001b[0m\u001b[0m\n\u001b[1;32m   1553\u001b[0m                 \u001b[0mattrib\u001b[0m\u001b[0;34m[\u001b[0m\u001b[0mfixname\u001b[0m\u001b[0;34m(\u001b[0m\u001b[0mattrib_in\u001b[0m\u001b[0;34m[\u001b[0m\u001b[0mi\u001b[0m\u001b[0;34m]\u001b[0m\u001b[0;34m)\u001b[0m\u001b[0;34m]\u001b[0m \u001b[0;34m=\u001b[0m \u001b[0mfixtext\u001b[0m\u001b[0;34m(\u001b[0m\u001b[0mattrib_in\u001b[0m\u001b[0;34m[\u001b[0m\u001b[0mi\u001b[0m\u001b[0;34m+\u001b[0m\u001b[0;36m1\u001b[0m\u001b[0;34m]\u001b[0m\u001b[0;34m)\u001b[0m\u001b[0;34m\u001b[0m\u001b[0m\n\u001b[0;32m-> 1554\u001b[0;31m         \u001b[0;32mreturn\u001b[0m \u001b[0mself\u001b[0m\u001b[0;34m.\u001b[0m\u001b[0mtarget\u001b[0m\u001b[0;34m.\u001b[0m\u001b[0mstart\u001b[0m\u001b[0;34m(\u001b[0m\u001b[0mtag\u001b[0m\u001b[0;34m,\u001b[0m \u001b[0mattrib\u001b[0m\u001b[0;34m)\u001b[0m\u001b[0;34m\u001b[0m\u001b[0m\n\u001b[0m\u001b[1;32m   1555\u001b[0m \u001b[0;34m\u001b[0m\u001b[0m\n\u001b[1;32m   1556\u001b[0m     \u001b[0;32mdef\u001b[0m \u001b[0m_data\u001b[0m\u001b[0;34m(\u001b[0m\u001b[0mself\u001b[0m\u001b[0;34m,\u001b[0m \u001b[0mtext\u001b[0m\u001b[0;34m)\u001b[0m\u001b[0;34m:\u001b[0m\u001b[0;34m\u001b[0m\u001b[0m\n",
      "\u001b[0;32m/usr/lib/python2.7/xml/etree/ElementTree.pyc\u001b[0m in \u001b[0;36mstart\u001b[0;34m(self, tag, attrs)\u001b[0m\n\u001b[1;32m   1428\u001b[0m     \u001b[0;32mdef\u001b[0m \u001b[0mstart\u001b[0m\u001b[0;34m(\u001b[0m\u001b[0mself\u001b[0m\u001b[0;34m,\u001b[0m \u001b[0mtag\u001b[0m\u001b[0;34m,\u001b[0m \u001b[0mattrs\u001b[0m\u001b[0;34m)\u001b[0m\u001b[0;34m:\u001b[0m\u001b[0;34m\u001b[0m\u001b[0m\n\u001b[1;32m   1429\u001b[0m         \u001b[0mself\u001b[0m\u001b[0;34m.\u001b[0m\u001b[0m_flush\u001b[0m\u001b[0;34m(\u001b[0m\u001b[0;34m)\u001b[0m\u001b[0;34m\u001b[0m\u001b[0m\n\u001b[0;32m-> 1430\u001b[0;31m         \u001b[0mself\u001b[0m\u001b[0;34m.\u001b[0m\u001b[0m_last\u001b[0m \u001b[0;34m=\u001b[0m \u001b[0melem\u001b[0m \u001b[0;34m=\u001b[0m \u001b[0mself\u001b[0m\u001b[0;34m.\u001b[0m\u001b[0m_factory\u001b[0m\u001b[0;34m(\u001b[0m\u001b[0mtag\u001b[0m\u001b[0;34m,\u001b[0m \u001b[0mattrs\u001b[0m\u001b[0;34m)\u001b[0m\u001b[0;34m\u001b[0m\u001b[0m\n\u001b[0m\u001b[1;32m   1431\u001b[0m         \u001b[0;32mif\u001b[0m \u001b[0mself\u001b[0m\u001b[0;34m.\u001b[0m\u001b[0m_elem\u001b[0m\u001b[0;34m:\u001b[0m\u001b[0;34m\u001b[0m\u001b[0m\n\u001b[1;32m   1432\u001b[0m             \u001b[0mself\u001b[0m\u001b[0;34m.\u001b[0m\u001b[0m_elem\u001b[0m\u001b[0;34m[\u001b[0m\u001b[0;34m-\u001b[0m\u001b[0;36m1\u001b[0m\u001b[0;34m]\u001b[0m\u001b[0;34m.\u001b[0m\u001b[0mappend\u001b[0m\u001b[0;34m(\u001b[0m\u001b[0melem\u001b[0m\u001b[0;34m)\u001b[0m\u001b[0;34m\u001b[0m\u001b[0m\n",
      "\u001b[0;32m/usr/lib/python2.7/xml/etree/ElementTree.pyc\u001b[0m in \u001b[0;36m__init__\u001b[0;34m(self, tag, attrib, **extra)\u001b[0m\n\u001b[1;32m    208\u001b[0m         \u001b[0mattrib\u001b[0m \u001b[0;34m=\u001b[0m \u001b[0mattrib\u001b[0m\u001b[0;34m.\u001b[0m\u001b[0mcopy\u001b[0m\u001b[0;34m(\u001b[0m\u001b[0;34m)\u001b[0m\u001b[0;34m\u001b[0m\u001b[0m\n\u001b[1;32m    209\u001b[0m         \u001b[0mattrib\u001b[0m\u001b[0;34m.\u001b[0m\u001b[0mupdate\u001b[0m\u001b[0;34m(\u001b[0m\u001b[0mextra\u001b[0m\u001b[0;34m)\u001b[0m\u001b[0;34m\u001b[0m\u001b[0m\n\u001b[0;32m--> 210\u001b[0;31m         \u001b[0mself\u001b[0m\u001b[0;34m.\u001b[0m\u001b[0mtag\u001b[0m \u001b[0;34m=\u001b[0m \u001b[0mtag\u001b[0m\u001b[0;34m\u001b[0m\u001b[0m\n\u001b[0m\u001b[1;32m    211\u001b[0m         \u001b[0mself\u001b[0m\u001b[0;34m.\u001b[0m\u001b[0mattrib\u001b[0m \u001b[0;34m=\u001b[0m \u001b[0mattrib\u001b[0m\u001b[0;34m\u001b[0m\u001b[0m\n\u001b[1;32m    212\u001b[0m         \u001b[0mself\u001b[0m\u001b[0;34m.\u001b[0m\u001b[0m_children\u001b[0m \u001b[0;34m=\u001b[0m \u001b[0;34m[\u001b[0m\u001b[0;34m]\u001b[0m\u001b[0;34m\u001b[0m\u001b[0m\n",
      "\u001b[0;31mKeyboardInterrupt\u001b[0m: "
     ]
    }
   ],
   "source": [
    "import xml.etree.ElementTree as ET\n",
    "import re\n",
    "import gzip, pickle as cPickle\n",
    "\n",
    "tree = ET.parse('data.xml')\n",
    "root = tree.getroot()"
   ]
  },
  {
   "cell_type": "code",
   "execution_count": 3,
   "metadata": {
    "collapsed": true
   },
   "outputs": [],
   "source": [
    "\n",
    "citylist =dict(Berlin=\"BERLIN IS AWESOME\")\n",
    "STOPS = [\"\\{\", \"\\}\", \"\\[\", \"\\]\", \"\\\\n\",\"\\\\\"]\n",
    "\n",
    "counter = 0\n",
    "key = \"\"\n",
    "description = \"\"\n",
    "\n",
    "word = 'fubar'\n",
    "re_title = re.compile(r'title')\n",
    "re_revision = re.compile(r'revision')\n",
    "re_text = re.compile(r'text')\n",
    "re_cutter = re.compile(r'[^=]*==')\n",
    "\n",
    "\n",
    "for child in root:\n",
    "    if (child.tag == \"{http://www.mediawiki.org/xml/export-0.10/}siteinfo\"):\n",
    "        root.remove(child)\n",
    "    else:\n",
    "        #print 'CHILD'\n",
    "        #print child.tag, child.attrib\n",
    "        for subchild in child:\n",
    "            if re_title.search(subchild.tag):\n",
    "                #print \"TITLEEEE\"\n",
    "                #print subchild.text\n",
    "                key = subchild.text\n",
    "            if re_revision.search(subchild.tag):\n",
    "               # print 'REVISION', subchild.tag, subchild.attrib\n",
    "                for text in subchild.findall('{http://www.mediawiki.org/xml/export-0.10/}text'):\n",
    "                    if(len(text.text)>15):\n",
    "                        description = text.text\n",
    "                        for section in re_cutter.finditer(description):# Remove anything after first == appearance\n",
    "                            description = section.group(0)\n",
    "                            description = description[:-3]#Remove also the == that were included in the regex\n",
    "                            break;\n",
    "                        description = re.sub(\"\\[\\[[^\\]]*\\]\", \" \",description) # Remove everything between [[...]]\n",
    "                        description = re.sub(\"\\{\\{[^\\}]*\\}\", \"\", description) # Remove everything between {{...}}\n",
    "                        description = re.sub(\"'''\", \"'\", description) # Handle the ''''\n",
    "                        description = re.sub(\"[\\\\\\{\\}\\[\\]\\\\n]\",\"\", description) # Remove stuff\n",
    "\n",
    "                    \n",
    "            citylist[key] = description\n",
    "                    \n",
    "\n",
    "        counter += 1\n",
    "        if (counter >= 100):\n",
    "            break;\n",
    "    \n",
    "    "
   ]
  },
  {
   "cell_type": "code",
   "execution_count": 64,
   "metadata": {
    "collapsed": true
   },
   "outputs": [],
   "source": [
    "#citylist.viewkeys()"
   ]
  },
  {
   "cell_type": "code",
   "execution_count": 4,
   "metadata": {},
   "outputs": [
    {
     "data": {
      "text/plain": [
       "u\" 'Abruzzo' is one of the twenty Italian regions. It is situated in the central part of  , to the east of Rome on the Adriatic Sea. Abruzzo's western border lies less than 50 miles due east of Rome. Abruzzo borders the region of Marche to the north, Lazio to the west and south-west, Molise to the south-east, and the Adriatic Sea to the east. Although geographically more of a central than southern region, ISTAT (the Italian statistical authority) considers it part of Southern Italy, a vestige of Abruzzo's historic association with the Kingdom of the Two Sicilies.Abruzzo is one of the most sparsely populated regions on the Italian peninsula. Always a wild and empty region, since the Second World War it has depopulated further, as people have left the land, and the traditional mainstay of sheep farming, for the cities and for America. A vacation in Abruzzo offers a taste of the unspoiled Italy.\""
      ]
     },
     "execution_count": 4,
     "metadata": {},
     "output_type": "execute_result"
    }
   ],
   "source": [
    "abr = citylist[\"Abruzzo\"]\n",
    "abr"
   ]
  },
  {
   "cell_type": "code",
   "execution_count": null,
   "metadata": {
    "collapsed": true
   },
   "outputs": [],
   "source": []
  },
  {
   "cell_type": "markdown",
   "metadata": {
    "collapsed": true
   },
   "source": [
    "# Seq2Vec own Model with Word2Vec average Vector"
   ]
  },
  {
   "cell_type": "code",
   "execution_count": 160,
   "metadata": {
    "collapsed": true
   },
   "outputs": [],
   "source": [
    "from gensim.models import Word2Vec\n",
    "from gensim.models import KeyedVectors\n",
    "import cPickle, gzip\n",
    "import numpy as np\n",
    "import pandas as pd\n",
    "import gzip, pickle as cPickle"
   ]
  },
  {
   "cell_type": "code",
   "execution_count": 2,
   "metadata": {},
   "outputs": [
    {
     "name": "stdout",
     "output_type": "stream",
     "text": [
      "Loaded model\n"
     ]
    }
   ],
   "source": [
    "EMBEDDING_FILE = './model/GoogleNews-vectors-negative300.bin'\n",
    "#model = Word2Vec.load(EMBEDDING_FILE)\n",
    "\n",
    "word2vec = KeyedVectors.load_word2vec_format(EMBEDDING_FILE, \\\n",
    "        binary=True)\n",
    "print \"Loaded model\""
   ]
  },
  {
   "cell_type": "code",
   "execution_count": 158,
   "metadata": {},
   "outputs": [
    {
     "data": {
      "text/plain": [
       "' shertogenbosch  commonly known  den bosch  city south netherlands capital province north brabant stronghold vital protection young dutch nation den bosch charming wellpreserved medieval centre wander winding streets see saint johns cathedral pick street terrace market square relax chilling beer take boat see part unique binnendieze subterranean network canals city head south part town ancient ramparts still mark border city beginning natural reserve area short den bosch lacks fame makes charm place well worth visiting'"
      ]
     },
     "execution_count": 158,
     "metadata": {},
     "output_type": "execute_result"
    }
   ],
   "source": [
    "#Load Data\n",
    "df = pd.read_csv('./proc_data.csv')\n",
    "descriptions = np.array(df.loc[:]['description'])\n",
    "descriptions_vec = [vectorize(word2vec, description) for description in descriptions]\n",
    "index = findBestMatch(vectorize(word2vec,\"It's a nice little city\"), descriptions_vec)\n",
    "output = descriptions[index]\n",
    "output"
   ]
  },
  {
   "cell_type": "code",
   "execution_count": 163,
   "metadata": {},
   "outputs": [],
   "source": [
    "save_zipped_pickle(descriptions_vec,'descriptions_vec.npy')\n",
    "descriptions_vec = load_zipped_pickle('./input/arr0_1000.npy')\n"
   ]
  },
  {
   "cell_type": "code",
   "execution_count": 162,
   "metadata": {
    "collapsed": true
   },
   "outputs": [],
   "source": [
    "def vectorize(word2vec, sentence, num_features=300):\n",
    "    mywords = sentence.split(\" \")\n",
    "    myvector = np.zeros((num_features),dtype=\"float32\")\n",
    "\n",
    "    i = 0\n",
    "    for word in mywords:\n",
    "        #print word\n",
    "        if word in word2vec.vocab:\n",
    "            myvector = np.add(myvector,word2vec[word]) # Adding every new vector\n",
    "            i+=1\n",
    "    featureVec = np.divide(myvector, i) # and in the end dividing it by the number of words\n",
    "\n",
    "    return featureVec\n",
    "\n",
    "def eucDistance(vector1, vector2):\n",
    "    euclid = 0.0\n",
    "    for (dim1, dim2) in zip(vector1, vector2):\n",
    "        euclid = euclid +(dim1-dim2)*(dim1-dim2)\n",
    "        #print dim1, dim2\n",
    "    euclid = np.sqrt(euclid)\n",
    "    return euclid\n",
    "def maxDistance(vector1, vector2):\n",
    "    return max(np.abs(np.substract(vector1,vector2)))\n",
    "def minDistance(vec1, vec2):\n",
    "    return min(np.abs(np.substract(vec1,vec2)))\n",
    "def findBestMatch(vec1, vecarray):\n",
    "    distances = np.zeros(len(vecarray))\n",
    "    for i in range(0,len(vecarray)):\n",
    "        distances[i] = eucDistance(vec1, vecarray[i])\n",
    "    index = distances.argmin()\n",
    "    return index             \n",
    "        \n",
    "def dfToVecArray(word2vec, df):\n",
    "    vecarray = 1 # NNEDS TO BE DEFINED\n",
    "    return vecarray\n",
    "\n",
    "def save_zipped_pickle(obj, filename, protocol=-1):\n",
    "\twith gzip.open(filename, 'wb') as f:\n",
    "\t\tcPickle.dump(obj, f, protocol)\n",
    "\t\tf.close()\n",
    "\n",
    "def load_zipped_pickle(filename):\t# loads and unpacks\n",
    "\twith gzip.open(filename, 'rb') as f:\n",
    "\t\tloaded_object = cPickle.load(f)\n",
    "\t\tf.close()\n",
    "\t\treturn loaded_object"
   ]
  },
  {
   "cell_type": "code",
   "execution_count": 152,
   "metadata": {},
   "outputs": [
    {
     "data": {
      "text/plain": [
       "' shertogenbosch  commonly known  den bosch  city south netherlands capital province north brabant stronghold vital protection young dutch nation den bosch charming wellpreserved medieval centre wander winding streets see saint johns cathedral pick street terrace market square relax chilling beer take boat see part unique binnendieze subterranean network canals city head south part town ancient ramparts still mark border city beginning natural reserve area short den bosch lacks fame makes charm place well worth visiting'"
      ]
     },
     "execution_count": 152,
     "metadata": {},
     "output_type": "execute_result"
    }
   ],
   "source": [
    "bsp1 = \"Hi I am rather cool\"\n",
    "bsp2 = \"Yo where have you been\"\n",
    "myvec1 = vectorize(word2vec, bsp1)\n",
    "myvec2 = vectorize(word2vec, bsp2)\n",
    "vecarray = [myvec1, myvec2]\n",
    "\n",
    "#euc = eucDistance(myvec1, myvec2)\n",
    "descriptions[findBestMatch(myvec1,vecarray)]"
   ]
  }
 ],
 "metadata": {
  "kernelspec": {
   "display_name": "Python 2",
   "language": "python",
   "name": "python2"
  },
  "language_info": {
   "codemirror_mode": {
    "name": "ipython",
    "version": 2
   },
   "file_extension": ".py",
   "mimetype": "text/x-python",
   "name": "python",
   "nbconvert_exporter": "python",
   "pygments_lexer": "ipython2",
   "version": "2.7.12"
  }
 },
 "nbformat": 4,
 "nbformat_minor": 2
}
