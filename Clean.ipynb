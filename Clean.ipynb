{
 "cells": [
  {
   "cell_type": "code",
   "execution_count": 1,
   "metadata": {
    "collapsed": true
   },
   "outputs": [],
   "source": [
    "import xml.etree.ElementTree as ET\n",
    "import re\n",
    "tree = ET.parse('data.xml')\n",
    "root = tree.getroot()"
   ]
  },
  {
   "cell_type": "code",
   "execution_count": 2,
   "metadata": {},
   "outputs": [
    {
     "data": {
      "text/plain": [
       "{'Barcelona': 'IT WAS AWESOME', 'one': 1, 'three': 3, 'two': 2}"
      ]
     },
     "execution_count": 2,
     "metadata": {},
     "output_type": "execute_result"
    }
   ],
   "source": [
    "a = dict(one=1, two=2, three=3)\n",
    "a['Barcelona'] = \"IT WAS AWESOME\"\n",
    "a"
   ]
  },
  {
   "cell_type": "code",
   "execution_count": 65,
   "metadata": {},
   "outputs": [],
   "source": [
    "citylist =dict(Berlin=\"BERLIN IS AWESOME\")\n",
    "STOPS = [\"\\{\", \"\\}\", \"\\[\", \"\\]\", \"\\\\n\",\"\\\\\"]\n",
    "\n",
    "counter = 0\n",
    "key = \"\"\n",
    "description = \"\"\n",
    "\n",
    "word = 'fubar'\n",
    "re_title = re.compile(r'title')\n",
    "re_revision = re.compile(r'revision')\n",
    "re_text = re.compile(r'text')\n",
    "re_cutter = re.compile(r'[^=]*==')\n",
    "\n",
    "\n",
    "for child in root:\n",
    "    if (child.tag == \"{http://www.mediawiki.org/xml/export-0.10/}siteinfo\"):\n",
    "        root.remove(child)\n",
    "    else:\n",
    "        #print 'CHILD'\n",
    "        #print child.tag, child.attrib\n",
    "        for subchild in child:\n",
    "            if re_title.search(subchild.tag):\n",
    "                #print \"TITLEEEE\"\n",
    "                #print subchild.text\n",
    "                key = subchild.text\n",
    "            if re_revision.search(subchild.tag):\n",
    "               # print 'REVISION', subchild.tag, subchild.attrib\n",
    "                for text in subchild.findall('{http://www.mediawiki.org/xml/export-0.10/}text'):\n",
    "                    if(len(text.text)>15):\n",
    "                        description = text.text\n",
    "                        for section in cutter.finditer(description):# Remove anything after first == appearance\n",
    "                            description = section.group(0)\n",
    "                            description = description[:-3]#Remove also the == that were included in the regex\n",
    "                            break;\n",
    "                        description = re.sub(\"\\[\\[[^\\]]*\\]\", \" \",description) # Remove everything between [[...]]\n",
    "                        description = re.sub(\"\\{\\{[^\\}]*\\}\", \"\", description) # Remove everything between {{...}}\n",
    "                        description = re.sub(\"'''\", \"'\", description) # Handle the ''''\n",
    "                        description = re.sub(\"[\\\\\\{\\}\\[\\]\\\\n]\",\"\", description) # Remove stuff\n",
    "\n",
    "                    \n",
    "            citylist[key] = description\n",
    "                    \n",
    "\n",
    "        counter += 1\n",
    "        if (counter >= 100):\n",
    "            break;\n",
    "    \n",
    "    "
   ]
  },
  {
   "cell_type": "code",
   "execution_count": 64,
   "metadata": {},
   "outputs": [],
   "source": [
    "#citylist.viewkeys()"
   ]
  },
  {
   "cell_type": "code",
   "execution_count": 67,
   "metadata": {},
   "outputs": [
    {
     "data": {
      "text/plain": [
       "u\" 'Abruzzo' is one of the twenty Italian regions. It is situated in the central part of  , to the east of Rome on the Adriatic Sea. Abruzzo's western border lies less than 50 miles due east of Rome. Abruzzo borders the region of Marche to the north, Lazio to the west and south-west, Molise to the south-east, and the Adriatic Sea to the east. Although geographically more of a central than southern region, ISTAT (the Italian statistical authority) considers it part of Southern Italy, a vestige of Abruzzo's historic association with the Kingdom of the Two Sicilies.Abruzzo is one of the most sparsely populated regions on the Italian peninsula. Always a wild and empty region, since the Second World War it has depopulated further, as people have left the land, and the traditional mainstay of sheep farming, for the cities and for America. A vacation in Abruzzo offers a taste of the unspoiled Italy.\""
      ]
     },
     "execution_count": 67,
     "metadata": {},
     "output_type": "execute_result"
    }
   ],
   "source": [
    "abr = citylist[\"Abruzzo\"]\n",
    "abr"
   ]
  },
  {
   "cell_type": "code",
   "execution_count": null,
   "metadata": {},
   "outputs": [],
   "source": []
  },
  {
   "cell_type": "code",
   "execution_count": null,
   "metadata": {},
   "outputs": [],
   "source": []
  }
 ],
 "metadata": {
  "kernelspec": {
   "display_name": "Python 2",
   "language": "python",
   "name": "python2"
  },
  "language_info": {
   "codemirror_mode": {
    "name": "ipython",
    "version": 2
   },
   "file_extension": ".py",
   "mimetype": "text/x-python",
   "name": "python",
   "nbconvert_exporter": "python",
   "pygments_lexer": "ipython2",
   "version": "2.7.12"
  }
 },
 "nbformat": 4,
 "nbformat_minor": 2
}
